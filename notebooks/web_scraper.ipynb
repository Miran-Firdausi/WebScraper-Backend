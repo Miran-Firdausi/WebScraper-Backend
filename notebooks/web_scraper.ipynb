{
 "cells": [
  {
   "cell_type": "code",
   "execution_count": 2,
   "id": "21b55065-f868-43aa-90a6-ab1232f5b649",
   "metadata": {},
   "outputs": [],
   "source": [
    "from setup import init_django\n",
    "init_django()"
   ]
  },
  {
   "cell_type": "code",
   "execution_count": 3,
   "id": "9c8facb0-8d39-4d2b-903c-7eab89a19db6",
   "metadata": {},
   "outputs": [],
   "source": [
    "import helpers"
   ]
  },
  {
   "cell_type": "code",
   "execution_count": 117,
   "id": "594b8cb3-5d5e-498f-9f15-f2495df4f4fa",
   "metadata": {},
   "outputs": [
    {
     "name": "stdout",
     "output_type": "stream",
     "text": [
      "Connecting to scraping browser\n",
      "Connected! Navigated to https://coinmarketcap.com/currencies/duko/\n",
      "Done Scraping!\n"
     ]
    }
   ],
   "source": [
    "url = 'https://coinmarketcap.com/currencies/duko/'\n",
    "html = helpers.scrape(url)"
   ]
  },
  {
   "cell_type": "code",
   "execution_count": 98,
   "id": "84f10e86-3a35-4816-bb42-fb1f858c530d",
   "metadata": {},
   "outputs": [],
   "source": [
    "from bs4 import BeautifulSoup"
   ]
  },
  {
   "cell_type": "code",
   "execution_count": 66,
   "id": "5739ddd3-35df-409f-b4b5-7e44accb022d",
   "metadata": {},
   "outputs": [],
   "source": [
    "def convert_to_number(string):\n",
    "    \"\"\"\n",
    "    Converts a string including symbols and commas to a numerical value.\n",
    "    \"\"\"\n",
    "    number = string.split()[0]\n",
    "    number = number.replace('$', '').replace(',', '').replace('%', '')\n",
    "    return float(number)"
   ]
  },
  {
   "cell_type": "code",
   "execution_count": 118,
   "id": "6a63920a-8012-42ef-8769-8e3da3fff26b",
   "metadata": {},
   "outputs": [],
   "source": [
    "def get_coin_data(html):\n",
    "    soup = BeautifulSoup(html)\n",
    "    \n",
    "    coin_stats_div = soup.find('div', {'data-module-name': 'Coin-stats'})\n",
    "    coin_data = {}\n",
    "    \n",
    "    if coin_stats_div:\n",
    "        # Extract price\n",
    "        price = coin_stats_div.find('span', {'class': 'sc-d1ede7e3-0 fsQm base-text'}).text.strip()\n",
    "        price = convert_to_number(price)\n",
    "        coin_data['price'] = price\n",
    "    \n",
    "        # Extract price change\n",
    "        price_change_element = coin_stats_div.find('p', {'class': 'sc-71024e3e-0 sc-58c82cf9-1 ihXFUo iPawMI'})\n",
    "        price_change_color = price_change_element.get('color')\n",
    "        price_change_value = price_change_element.text.strip().split('%')[0]\n",
    "        if price_change_color == 'red':\n",
    "            price_change_value = '-' + price_change_value\n",
    "    \n",
    "        coin_data['price_change'] = float(price_change_value)\n",
    "    \n",
    "        # Extract market cap\n",
    "        market_cap_element = coin_stats_div.find('div', string='Market cap').parent.parent.find('dd')\n",
    "        market_cap_value = market_cap_element.contents[1].strip()\n",
    "        market_cap_value = convert_to_number(market_cap_value)\n",
    "        coin_data['market_cap'] = market_cap_value\n",
    "\n",
    "        # Extract volume (24h)\n",
    "        volume_24h_element = coin_stats_div.find('div', string='Volume (24h)').parent.parent.find('dd')\n",
    "        volume_24h_value = volume_24h_element.contents[1].strip()\n",
    "        volume_24h_value = convert_to_number(volume_24h_value)\n",
    "        coin_data['volume'] = volume_24h_value\n",
    "    \n",
    "        # Extract Market cap and volume rank\n",
    "        rank_elements = coin_stats_div.find_all('span', {'class': 'text slider-value rank-value'})\n",
    "        market_cap_rank_value = int(rank_elements[0].text[1:])\n",
    "        volume_rank_value = int(rank_elements[1].text[1:])\n",
    "        coin_data['market_cap_rank'] = market_cap_rank_value\n",
    "        coin_data['volume_rank'] = volume_rank_value\n",
    "\n",
    "        # Extract Volume Change\n",
    "        volume_change_element = coin_stats_div.select_one('div.sc-d1ede7e3-0.sc-cd4f73ae-0.bwRagp.iWXelA.flexBetween:has(dt:-soup-contains(\"Volume/Market cap (24h)\")) dd')\n",
    "        volume_change_value = convert_to_number(volume_change_element.text.strip())\n",
    "        coin_data['volume_change'] = volume_change_value\n",
    "    \n",
    "        # Extract circulating supply\n",
    "        circulating_supply_element = coin_stats_div.find('div', string='Circulating supply').parent.parent.find('dd')\n",
    "        circulating_supply_value = convert_to_number(circulating_supply_element.text.strip())\n",
    "        coin_data['circulating_supply'] = circulating_supply_value\n",
    "    \n",
    "        # Extract total supply\n",
    "        total_supply_element = coin_stats_div.select_one('div.sc-d1ede7e3-0.sc-cd4f73ae-0.bwRagp.iWXelA.flexBetween:has(dt:-soup-contains(\"Total supply\")) dd')\n",
    "        total_supply_value = convert_to_number(total_supply_element.text.strip())\n",
    "        coin_data['total_supply'] = total_supply_value\n",
    "    \n",
    "        # Extract Fully diluted market cap\n",
    "        diluted_market_cap_element = coin_stats_div.select_one('div.sc-d1ede7e3-0.sc-cd4f73ae-0.bwRagp.iWXelA.flexBetween:has(dt:-soup-contains(\"Fully diluted market cap\")) dd')\n",
    "        diluted_market_cap_value = convert_to_number(diluted_market_cap_element.text.strip())\n",
    "        coin_data['diluted_market_cap'] = diluted_market_cap_value\n",
    "\n",
    "        contract = {}\n",
    "        coin_data['contracts'] = []\n",
    "\n",
    "        # Extract contract name\n",
    "        contract_name_element = coin_stats_div.find('span', {'class': 'sc-71024e3e-0 dEZnuB'})\n",
    "        if contract_name_element:\n",
    "            contract_name = contract_name_element.text.strip()[:-1]\n",
    "            contract['name'] =  contract_name\n",
    "        \n",
    "        # Extract contract address\n",
    "        address_element = coin_stats_div.find('a', {'class': 'chain-name'})\n",
    "        if address_element:\n",
    "            address_value = address_element.get('href')\n",
    "            address_value = address_value.split('/')[-1]\n",
    "            contract['address'] = address_value\n",
    "\n",
    "        coin_data['contracts'].append(contract)\n",
    "\n",
    "        # Extract more contracts if any\n",
    "        more_contracts_elements = coin_stats_div.find_all('div', {'class': 'sc-d1ede7e3-0 sc-7f0f401-0 sc-96368265-0 bwRagp gQoblf eBvtSa flexStart'})\n",
    "        for element in more_contracts_elements:\n",
    "            contract_name = element.find('span', {'class': 'sc-71024e3e-0 dEZnuB'}).text.strip()\n",
    "            address_element = element.find('a')\n",
    "            contract = {}\n",
    "            if address_element:\n",
    "                address_value = address_element.get('href').split('/')[-1]\n",
    "                contract['name'] = contract_name\n",
    "                contract['address'] = address_value\n",
    "                coin_data['contracts'].append(contract)\n",
    "        # Extract official links\n",
    "        official_links_element = coin_stats_div.select('.sc-d1ede7e3-0.jTYLCR:has(span:-soup-contains(\"Official links\")) .sc-d1ede7e3-0.sc-7f0f401-0.gRSwoF.gQoblf')\n",
    "        \n",
    "        official_links = []\n",
    "        \n",
    "        for div in official_links_element:\n",
    "            link_element = div.find('a')\n",
    "            if link_element:\n",
    "                link_dict = {}\n",
    "                link = link_element.get('href')\n",
    "                link_text = link_element.text.strip()\n",
    "                if link and link_text:\n",
    "                    link_dict['name'] = link_text\n",
    "                    link_dict['link'] = link\n",
    "                    official_links.append(link_dict)\n",
    "\n",
    "        coin_data['official_links'] = official_links\n",
    "    \n",
    "        #Extract social links\n",
    "        social_links_element = coin_stats_div.select('.sc-d1ede7e3-0.jTYLCR:has(span:-soup-contains(\"Socials\")) .sc-d1ede7e3-0.sc-7f0f401-0.gRSwoF.gQoblf')\n",
    "        \n",
    "        social_links = []\n",
    "        for div in social_links_element:\n",
    "            link_element = div.find('a')\n",
    "            if link_element:\n",
    "                link_dict = {}\n",
    "                link = link_element.get('href')\n",
    "                link_text = link_element.text.strip()\n",
    "                if link and link_text:\n",
    "                    link_dict['name'] = link_text\n",
    "                    link_dict['link'] = link\n",
    "                    social_links.append(link_dict)\n",
    "        coin_data['socials'] = social_links\n",
    "    else:\n",
    "        coin_data['error'] = 'Coin statistics div not found in HTML.'\n",
    "    return coin_data"
   ]
  },
  {
   "cell_type": "code",
   "execution_count": 119,
   "id": "b6135f7d-bffb-4459-9f59-ccbe74d1e8e6",
   "metadata": {},
   "outputs": [
    {
     "ename": "AttributeError",
     "evalue": "'NoneType' object has no attribute 'get'",
     "output_type": "error",
     "traceback": [
      "\u001b[1;31m---------------------------------------------------------------------------\u001b[0m",
      "\u001b[1;31mAttributeError\u001b[0m                            Traceback (most recent call last)",
      "Cell \u001b[1;32mIn[119], line 1\u001b[0m\n\u001b[1;32m----> 1\u001b[0m data \u001b[38;5;241m=\u001b[39m \u001b[43mget_coin_data\u001b[49m\u001b[43m(\u001b[49m\u001b[43mhtml\u001b[49m\u001b[43m)\u001b[49m\n\u001b[0;32m      2\u001b[0m \u001b[38;5;28mprint\u001b[39m(data)\n",
      "Cell \u001b[1;32mIn[118], line 15\u001b[0m, in \u001b[0;36mget_coin_data\u001b[1;34m(html)\u001b[0m\n\u001b[0;32m     13\u001b[0m \u001b[38;5;66;03m# Extract price change\u001b[39;00m\n\u001b[0;32m     14\u001b[0m price_change_element \u001b[38;5;241m=\u001b[39m coin_stats_div\u001b[38;5;241m.\u001b[39mfind(\u001b[38;5;124m'\u001b[39m\u001b[38;5;124mp\u001b[39m\u001b[38;5;124m'\u001b[39m, {\u001b[38;5;124m'\u001b[39m\u001b[38;5;124mclass\u001b[39m\u001b[38;5;124m'\u001b[39m: \u001b[38;5;124m'\u001b[39m\u001b[38;5;124msc-71024e3e-0 sc-58c82cf9-1 ihXFUo iPawMI\u001b[39m\u001b[38;5;124m'\u001b[39m})\n\u001b[1;32m---> 15\u001b[0m price_change_color \u001b[38;5;241m=\u001b[39m \u001b[43mprice_change_element\u001b[49m\u001b[38;5;241;43m.\u001b[39;49m\u001b[43mget\u001b[49m(\u001b[38;5;124m'\u001b[39m\u001b[38;5;124mcolor\u001b[39m\u001b[38;5;124m'\u001b[39m)\n\u001b[0;32m     16\u001b[0m price_change_value \u001b[38;5;241m=\u001b[39m price_change_element\u001b[38;5;241m.\u001b[39mtext\u001b[38;5;241m.\u001b[39mstrip()\u001b[38;5;241m.\u001b[39msplit(\u001b[38;5;124m'\u001b[39m\u001b[38;5;124m%\u001b[39m\u001b[38;5;124m'\u001b[39m)[\u001b[38;5;241m0\u001b[39m]\n\u001b[0;32m     17\u001b[0m \u001b[38;5;28;01mif\u001b[39;00m price_change_color \u001b[38;5;241m==\u001b[39m \u001b[38;5;124m'\u001b[39m\u001b[38;5;124mred\u001b[39m\u001b[38;5;124m'\u001b[39m:\n",
      "\u001b[1;31mAttributeError\u001b[0m: 'NoneType' object has no attribute 'get'"
     ]
    }
   ],
   "source": [
    "data = get_coin_data(html)\n",
    "print(data)"
   ]
  },
  {
   "cell_type": "code",
   "execution_count": null,
   "id": "0d98769e-bc85-4579-a971-c70f1d4e97e7",
   "metadata": {},
   "outputs": [],
   "source": []
  }
 ],
 "metadata": {
  "kernelspec": {
   "display_name": "Python 3 (ipykernel)",
   "language": "python",
   "name": "python3"
  },
  "language_info": {
   "codemirror_mode": {
    "name": "ipython",
    "version": 3
   },
   "file_extension": ".py",
   "mimetype": "text/x-python",
   "name": "python",
   "nbconvert_exporter": "python",
   "pygments_lexer": "ipython3",
   "version": "3.12.3"
  }
 },
 "nbformat": 4,
 "nbformat_minor": 5
}
